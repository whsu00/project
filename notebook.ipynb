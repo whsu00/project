{
 "cells": [
  {
   "cell_type": "markdown",
   "metadata": {
    "colab_type": "text",
    "id": "view-in-github"
   },
   "source": [
    "<a href=\"https://colab.research.google.com/github/whsu00/project/blob/with_gpu/notebook.ipynb\" target=\"_parent\"><img src=\"https://colab.research.google.com/assets/colab-badge.svg\" alt=\"Open In Colab\"/></a>"
   ]
  },
  {
   "cell_type": "code",
   "execution_count": null,
   "metadata": {
    "cellView": "form",
    "id": "jyENcC2YxP5r"
   },
   "outputs": [],
   "source": [
    "#@title Setup\n",
    "#@markdown Run me to clone the repo, install dependencies, and set up MuJoCo!\n",
    "\n",
    "!rm -rf * .config\n",
    "!git clone -b with_gpu https://github.com/whsu00/project\n",
    "!apt-get install -y libglu1-mesa-dev libgl1-mesa-dev libosmesa6-dev xvfb ffmpeg curl patchelf libglfw3 libglfw3-dev cmake zlib1g zlib1g-dev swig libosmesa6-dev libgl1-mesa-glx libglfw3\n",
    "!pip install mujoco_py==2.0.2.8 mpi4py\n",
    "\n",
    "!wget https://whsu00.com/mujoco.zip\n",
    "!unzip mujoco.zip\n",
    "!rm mujoco.zip\n",
    "!mv .mujoco ~\n",
    "\n",
    "MJC_PATH = \"/root/.mujoco\"\n",
    "import os\n",
    "os.environ['LD_LIBRARY_PATH'] += ':{}/mujoco200/bin'.format(MJC_PATH)\n",
    "os.environ['MUJOCO_PY_MUJOCO_PATH'] = '{}/mujoco200'.format(MJC_PATH)\n",
    "os.environ['MUJOCO_PY_MJKEY_PATH'] = '{}/mjkey.txt'.format(MJC_PATH)\n",
    "\n",
    "!cp $MJC_PATH/mujoco200/bin/*.so /usr/lib/x86_64-linux-gnu/"
   ]
  },
  {
   "cell_type": "code",
   "execution_count": 2,
   "metadata": {
    "cellView": "form",
    "id": "AeTZnVOi3KMc"
   },
   "outputs": [],
   "source": [
    "#@title Arguments\n",
    "env = \"HalfCheetah-v2\" #@param {type:\"string\"}\n",
    "hid = 64 #@param {type:\"integer\"}\n",
    "l = 2 #@param {type:\"integer\"}\n",
    "gamma = 0.97 #@param {type:\"number\"}\n",
    "seed = 0 #@param {type:\"integer\"}\n",
    "episodes = 40 #@param {type:\"integer\"}\n",
    "epochs = 1000 #@param {type:\"integer\"}\n",
    "exp_name = \"valor\" #@param {type:\"string\"}\n",
    "con = 5 #@param {type:\"integer\"}\n",
    "\n",
    "\"\"\"\n",
    "from utils.run_utils import setup_logger_kwargs\n",
    "logger_kwargs = setup_logger_kwargs(exp_name, seed)\n",
    "\n",
    "valor(lambda: gym.make(env), actor_critic=ActorCritic, ac_kwargs=dict(hidden_dims=[hid]*l),\n",
    "    disc=Discriminator, dc_kwargs=dict(hidden_dims=hid),\n",
    "    gamma=gamma, seed=seed, episodes_per_epoch=episodes, epochs=epochs, logger_kwargs=logger_kwargs, con_dim=con)\n",
    "\"\"\";"
   ]
  },
  {
   "cell_type": "code",
   "execution_count": null,
   "metadata": {
    "cellView": "form",
    "id": "lVqchYfu9v_W"
   },
   "outputs": [],
   "source": [
    "#@title Run\n",
    "#@markdown Uses the arguments to run `valor.py`\n",
    "!python valor.py --env $env --hid $hid --l $l --gamma $gamma --seed $seed --episodes $episodes --epochs $epochs --exp_name $exp_name --con $con"
   ]
  }
 ],
 "metadata": {
  "colab": {
   "collapsed_sections": [],
   "include_colab_link": true,
   "name": "VALOR Implementation",
   "provenance": []
  },
  "kernelspec": {
   "display_name": "Python 3",
   "language": "python",
   "name": "python3"
  },
  "language_info": {
   "codemirror_mode": {
    "name": "ipython",
    "version": 3
   },
   "file_extension": ".py",
   "mimetype": "text/x-python",
   "name": "python",
   "nbconvert_exporter": "python",
   "pygments_lexer": "ipython3",
   "version": "3.8.3"
  }
 },
 "nbformat": 4,
 "nbformat_minor": 1
}
