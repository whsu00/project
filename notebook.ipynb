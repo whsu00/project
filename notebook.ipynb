{
  "nbformat": 4,
  "nbformat_minor": 0,
  "metadata": {
    "colab": {
      "name": "VALOR Implementation",
      "provenance": [],
      "collapsed_sections": [],
      "include_colab_link": true
    },
    "kernelspec": {
      "display_name": "Python 3",
      "name": "python3"
    }
  },
  "cells": [
    {
      "cell_type": "markdown",
      "metadata": {
        "id": "view-in-github",
        "colab_type": "text"
      },
      "source": [
        "<a href=\"https://colab.research.google.com/github/whsu00/project/blob/master/notebook.ipynb\" target=\"_parent\"><img src=\"https://colab.research.google.com/assets/colab-badge.svg\" alt=\"Open In Colab\"/></a>"
      ]
    },
    {
      "cell_type": "code",
      "metadata": {
        "id": "jyENcC2YxP5r",
        "cellView": "form"
      },
      "source": [
        "#@title Setup\n",
        "#@markdown Run me to clone the repo, install dependencies, and set up MuJoCo!\n",
        "\n",
        "!rm -rf * .config\n",
        "!git clone https://github.com/whsu00/project .\n",
        "!apt-get install -y libglu1-mesa-dev libgl1-mesa-dev libosmesa6-dev xvfb ffmpeg curl patchelf libglfw3 libglfw3-dev cmake zlib1g zlib1g-dev swig libosmesa6-dev libgl1-mesa-glx libglfw3\n",
        "!pip install mujoco_py==2.0.2.8 mpi4py\n",
        "\n",
        "!wget https://whsu00.com/mujoco.zip\n",
        "!unzip mujoco.zip\n",
        "!rm mujoco.zip\n",
        "!mv .mujoco ~\n",
        "\n",
        "MJC_PATH = \"/root/.mujoco\"\n",
        "import os\n",
        "os.environ['LD_LIBRARY_PATH'] += ':{}/mujoco200/bin'.format(MJC_PATH)\n",
        "os.environ['MUJOCO_PY_MUJOCO_PATH'] = '{}/mujoco200'.format(MJC_PATH)\n",
        "os.environ['MUJOCO_PY_MJKEY_PATH'] = '{}/mjkey.txt'.format(MJC_PATH)\n",
        "\n",
        "!cp $MJC_PATH/mujoco200/bin/*.so /usr/lib/x86_64-linux-gnu/"
      ],
      "execution_count": null,
      "outputs": []
    },
    {
      "cell_type": "code",
      "metadata": {
        "id": "AeTZnVOi3KMc",
        "cellView": "form"
      },
      "source": [
        "#@title Arguments\n",
        "env = \"HalfCheetah-v2\" #@param {type:\"string\"}\n",
        "hid = 64 #@param {type:\"integer\"}\n",
        "l = 2 #@param {type:\"integer\"}\n",
        "gamma = 0.97 #@param {type:\"number\"}\n",
        "seed = 0 #@param {type:\"integer\"}\n",
        "episodes = 40 #@param {type:\"integer\"}\n",
        "epochs = 1000 #@param {type:\"integer\"}\n",
        "exp_name = \"valor\" #@param {type:\"string\"}\n",
        "con = 5 #@param {type:\"integer\"}\n",
        "\n",
        "\"\"\"\n",
        "from utils.run_utils import setup_logger_kwargs\n",
        "logger_kwargs = setup_logger_kwargs(exp_name, seed)\n",
        "\n",
        "valor(lambda: gym.make(env), actor_critic=ActorCritic, ac_kwargs=dict(hidden_dims=[hid]*l),\n",
        "    disc=Discriminator, dc_kwargs=dict(hidden_dims=hid),\n",
        "    gamma=gamma, seed=seed, episodes_per_epoch=episodes, epochs=epochs, logger_kwargs=logger_kwargs, con_dim=con)\n",
        "\"\"\";"
      ],
      "execution_count": 2,
      "outputs": []
    },
    {
      "cell_type": "code",
      "metadata": {
        "cellView": "form",
        "id": "lVqchYfu9v_W"
      },
      "source": [
        "#@title Run\n",
        "#@markdown Uses the arguments to run `valor.py`\n",
        "!python valor.py --env $env --hid $hid --l $l --gamma $gamma --seed $seed --episodes $episodes --epochs $epochs --exp_name $exp_name --con $con"
      ],
      "execution_count": null,
      "outputs": []
    }
  ]
}