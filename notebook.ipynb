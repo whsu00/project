{
  "nbformat": 4,
  "nbformat_minor": 0,
  "metadata": {
    "colab": {
      "name": "Copy of VALOR Implementation",
      "provenance": [],
      "collapsed_sections": []
    },
    "kernelspec": {
      "display_name": "Python 3",
      "language": "python",
      "name": "python3"
    },
    "language_info": {
      "codemirror_mode": {
        "name": "ipython",
        "version": 3
      },
      "file_extension": ".py",
      "mimetype": "text/x-python",
      "name": "python",
      "nbconvert_exporter": "python",
      "pygments_lexer": "ipython3",
      "version": "3.8.3"
    }
  },
  "cells": [
    {
      "cell_type": "code",
      "metadata": {
        "id": "jyENcC2YxP5r"
      },
      "source": [
        "#@title Setup\n",
        "#@markdown Run me to clone the repo, install dependencies, and set up MuJoCo!\n",
        "\n",
        "!rm -rf * .config\n",
        "!git clone https://github.com/whsu00/project . && git checkout behavior_scores\n",
        "!apt-get install -y libglu1-mesa-dev libgl1-mesa-dev libosmesa6-dev xvfb ffmpeg curl patchelf libglfw3 libglfw3-dev cmake zlib1g zlib1g-dev swig libosmesa6-dev libgl1-mesa-glx libglfw3\n",
        "!pip install mujoco_py==2.0.2.8 mpi4py\n",
        "\n",
        "!wget https://whsu00.com/mujoco.zip\n",
        "!unzip mujoco.zip\n",
        "!rm mujoco.zip\n",
        "!mv .mujoco ~\n",
        "\n",
        "MJC_PATH = \"/root/.mujoco\"\n",
        "import os\n",
        "os.environ['LD_LIBRARY_PATH'] += ':{}/mujoco200/bin'.format(MJC_PATH)\n",
        "os.environ['MUJOCO_PY_MUJOCO_PATH'] = '{}/mujoco200'.format(MJC_PATH)\n",
        "os.environ['MUJOCO_PY_MJKEY_PATH'] = '{}/mjkey.txt'.format(MJC_PATH)\n",
        "\n",
        "!cp $MJC_PATH/mujoco200/bin/*.so /usr/lib/x86_64-linux-gnu/"
      ],
      "execution_count": null,
      "outputs": []
    },
    {
      "cell_type": "code",
      "metadata": {
        "id": "0C237Ay2m8F7",
        "colab": {
          "base_uri": "https://localhost:8080/"
        },
        "outputId": "fc3abec1-7c14-4a0a-d8ad-6afa2b58170b"
      },
      "source": [
        "from google.colab import drive\n",
        "drive.mount('/content/drive')"
      ],
      "execution_count": 3,
      "outputs": [
        {
          "output_type": "stream",
          "text": [
            "Mounted at /content/drive\n"
          ],
          "name": "stdout"
        }
      ]
    },
    {
      "cell_type": "code",
      "metadata": {
        "id": "_g5HbXqmqRgi"
      },
      "source": [
        "%load_ext autoreload\n",
        "%autoreload 2\n",
        "import utils, network, buffer, valor\n",
        "import sys\n",
        "import gym, torch\n",
        "sys.path.insert(0, './utils/')"
      ],
      "execution_count": null,
      "outputs": []
    },
    {
      "cell_type": "code",
      "metadata": {
        "id": "AeTZnVOi3KMc"
      },
      "source": [
        "#@title Arguments\n",
        "\n",
        "\"\"\"\n",
        "from utils.run_utils import setup_logger_kwargs\n",
        "logger_kwargs = setup_logger_kwargs(exp_name, seed)\n",
        "\n",
        "valor(lambda: gym.make(env), actor_critic=ActorCritic, ac_kwargs=dict(hidden_dims=[hid]*l),\n",
        "    disc=Discriminator, dc_kwargs=dict(hidden_dims=hid),\n",
        "    gamma=gamma, seed=seed, episodes_per_epoch=episodes, epochs=epochs, logger_kwargs=logger_kwargs, con_dim=con)\n",
        "\"\"\";\n",
        "\n",
        "class Args:\n",
        "    env = \"HalfCheetah-v2\" #@param {type:\"string\"}\n",
        "    hid = 64 #@param {type:\"integer\"}\n",
        "    l = 2 #@param {type:\"integer\"}\n",
        "    exp_name = \"valor\" #@param {type:\"string\"}\n",
        "    seed = 0 #@param {type:\"integer\"}\n",
        "    episodes_per_epoch = 40 #@param {type:\"integer\"}\n",
        "    epochs = 1000 #@param {type:\"integer\"}\n",
        "    gamma = 0.99 #@param {type:\"number\"}\n",
        "    pi_lr = 3e-4 #@param {type:\"number\"}\n",
        "    vf_lr = 1e-3 #@param {type:\"number\"}\n",
        "    dc_lr = 2e-3 #@param {type:\"number\"}\n",
        "    train_v_iters = 80 #@param {type:\"integer\"}\n",
        "    train_dc_iters = 50 #@param {type:\"integer\"}\n",
        "    train_dc_interv = 2 #@param {type:\"integer\"}\n",
        "    lam = 0.97 #@param {type:\"number\"}\n",
        "    max_ep_len = 1000 #@param {type:\"integer\"}\n",
        "    context_dim = 4 #@param {type:\"integer\"}\n",
        "    max_context_dim = 64 #@param {type:\"integer\"}\n",
        "    threshold = 0.5 #@param {type:\"boolean\"}\n",
        "    save_freq = 10 #@param {type:\"integer\"}\n",
        "    k = 1 #@param {type:\"integer\"}\n",
        "    lstmFlag = False #@param{type:\"boolean\"}\n",
        "\n",
        "      \n",
        "    env_fn = (lambda e: lambda self: gym.make(e))(env)\n",
        "    actor_critic = network.ActorCritic\n",
        "    ac_kwargs = {\n",
        "        \"hidden_dims\": [hid]*l, \n",
        "        \"lstmFlag\": lstmFlag\n",
        "    }\n",
        "    disc = network.Discriminator\n",
        "    dc_kwargs = {\n",
        "        \"hidden_dims\": hid\n",
        "    }\n",
        "\n",
        "    empty_flag = ()\n",
        "    def get(self, key, default=empty_flag):\n",
        "        if hasattr(self, key):\n",
        "            return getattr(self, key)\n",
        "        elif default is not Args.empty_flag:\n",
        "            return default\n",
        "        raise KeyError(\"Args object does not have this attribute defined!\")\n",
        "\n",
        "    def __getitem__(self, key):\n",
        "        return self.get(key)\n",
        "\n",
        "    def __contains__(self, key):\n",
        "        return hasattr(self, key)\n",
        "\n",
        "    def __setitem__(self, key, value):\n",
        "        setattr(self, key, value)\n",
        "\n",
        "    \n"
      ],
      "execution_count": null,
      "outputs": []
    },
    {
      "cell_type": "code",
      "metadata": {
        "id": "c6iq3QWpu22k"
      },
      "source": [
        "from run_utils import setup_logger_kwargs\n",
        "args = Args()\n",
        "args.logger_kwargs = setup_logger_kwargs(args.exp_name, args.seed)"
      ],
      "execution_count": null,
      "outputs": []
    },
    {
      "cell_type": "code",
      "metadata": {
        "id": "cBhNnWoMO3Xp"
      },
      "source": [
        "valor.valor(args)"
      ],
      "execution_count": null,
      "outputs": []
    }
  ]
}